{
 "cells": [
  {
   "cell_type": "markdown",
   "id": "feef3a9a-fb40-4827-8ee8-8daae9c8a6ed",
   "metadata": {
    "tags": []
   },
   "source": [
    "# take2\n",
    "\n",
    "**GOAL**: Keep It Stupid Simple = KISS.\n",
    "\n",
    "**Dependencies:**\n",
    " - [pocketknives](https://github.com/zjwilliams20/pocketknives)\n",
    "\n",
    "**References:**\n",
    " 1. [ilqgames/python](https://github.com/HJReachability/ilqgames/blob/master/python)"
   ]
  },
  {
   "cell_type": "code",
   "execution_count": null,
   "id": "5af0f28d-2b3f-4be6-93b8-8952dfe73058",
   "metadata": {},
   "outputs": [],
   "source": [
    "from time import perf_counter as pc\n",
    "import warnings\n",
    "\n",
    "import numpy as np\n",
    "import matplotlib.pyplot as plt\n",
    "from matplotlib.animation import FuncAnimation\n",
    "\n",
    "from decentralized import split_agents, plot_solve\n",
    "import decentralized as dec\n",
    "import pocketknives\n",
    "\n",
    "π = np.pi\n",
    "g = 9.80665"
   ]
  },
  {
   "cell_type": "raw",
   "id": "68d2062d-2c47-4ba0-854c-ffa99e5188bd",
   "metadata": {},
   "source": [
    "%load_ext autoreload\n",
    "%autoreload 1\n",
    "%aimport decentralized.control, decentralized.dynamics, decentralized.cost, \\\n",
    "    decentralized.problem, decentralized.util, decentralized.decentralized"
   ]
  },
  {
   "cell_type": "code",
   "execution_count": null,
   "id": "f00b729e-d372-462c-be1f-b0f0068c12de",
   "metadata": {},
   "outputs": [],
   "source": [
    "%matplotlib ipympl\n",
    "plt.rcParams.update({\n",
    "    \"axes.grid\": False,\n",
    "    \"figure.constrained_layout.use\": True,\n",
    "    \"text.usetex\": False,\n",
    "    \"font.family\": \"serif\",\n",
    "    \"font.serif\": [\"Palatino\"],\n",
    "    \"ps.distiller.res\": 8000,\n",
    "})"
   ]
  },
  {
   "cell_type": "code",
   "execution_count": null,
   "id": "5caba289-740d-46cf-aba0-faa5b1a915cd",
   "metadata": {
    "tags": []
   },
   "outputs": [],
   "source": [
    "fig = plt.figure()"
   ]
  },
  {
   "cell_type": "markdown",
   "id": "b4e6bfed-7dbc-489d-ac20-66c1e4a1a25a",
   "metadata": {
    "tags": []
   },
   "source": [
    "## single-agent problem"
   ]
  },
  {
   "cell_type": "code",
   "execution_count": null,
   "id": "6dff7c45-1399-4160-9c68-14ec819a9dc8",
   "metadata": {},
   "outputs": [],
   "source": [
    "dt = 0.05\n",
    "N = 50\n",
    "n_d = 2\n",
    "\n",
    "x = np.array([-10, 10, 10, 0], dtype=float)\n",
    "x_goal = np.zeros((4, 1), dtype=float).T\n",
    "\n",
    "# dynamics = dec.DoubleIntDynamics4D(dt)\n",
    "dynamics = dec.UnicycleDynamics4D(dt)\n",
    "\n",
    "Q = np.diag([1., 1, 0, 0])\n",
    "Qf = 1000 * np.eye(Q.shape[0])\n",
    "R = np.eye(2)\n",
    "cost = dec.ReferenceCost(x_goal, Q, R, Qf)\n",
    "\n",
    "prob = dec.ilqrProblem(dynamics, cost)\n",
    "ilqr = dec.ilqrSolver(prob, N)\n",
    "X, U, J = ilqr.solve(x)\n",
    "\n",
    "plt.clf()\n",
    "plot_solve(X, J, x_goal)\n",
    "plt.draw()"
   ]
  },
  {
   "cell_type": "markdown",
   "id": "7da0f10b-4b23-4dd6-a2ca-c3c820010491",
   "metadata": {},
   "source": [
    "Show equations of motion, which have the form\n",
    "\n",
    "$$\\dot{x} = f(x, u, p)$$\n",
    "\n",
    "for states\n",
    "\n",
    "$$\n",
    "x = \\begin{bmatrix} o_x & o_y & o_z & \\psi & \\theta & \\phi & v_x & v_y & v_z & w_x & w_y & w_z \\end{bmatrix},\n",
    "$$\n",
    "\n",
    "inputs\n",
    "$$\n",
    "u = \\begin{bmatrix} \\tau_x & \\tau_y & \\tau_z & f_z \\end{bmatrix},\n",
    "$$\n",
    "\n",
    "and parameters\n",
    "$$\n",
    "p = \\begin{bmatrix} m & J_x & J_y & J_z & g \\end{bmatrix}.\n",
    "$$"
   ]
  },
  {
   "cell_type": "code",
   "execution_count": null,
   "id": "8810b906",
   "metadata": {},
   "outputs": [],
   "source": [
    "# Single-agent problem for a 6D quadcopter (w/ analytical diff.)\n",
    "dt = 0.1\n",
    "N = 40\n",
    "n_d = 3\n",
    "\n",
    "x = np.array([2, 2, 0.5 , 0, 0, 0], dtype=float)\n",
    "xf = np.zeros((6, 1), dtype=float).T\n",
    "\n",
    "dynamics = dec.QuadcopterDynamics6D(dt)\n",
    "\n",
    "# Q = np.diag([1., 1., 1., 0, 0, 0, 0, 0, 0, 0, 0, 0])\n",
    "Q = np.diag([1., 1., 1., 1., 1., 1.])\n",
    "Qf = 100 * np.eye(Q.shape[0])\n",
    "R = np.diag([0, 1, 1])\n",
    "cost = dec.ReferenceCost(xf, Q, R, Qf)\n",
    "\n",
    "prob = dec.ilqrProblem(dynamics, cost)\n",
    "ilqr = dec.ilqrSolver(prob, N)\n",
    "\n",
    "# with warnings.catch_warnings():\n",
    "    # warnings.filterwarnings(\"error\")\n",
    "X, U, J = ilqr.solve(x)\n",
    "\n",
    "plt.clf()\n",
    "plot_solve(X, J, xf, n_d=n_d)\n",
    "plt.draw()"
   ]
  },
  {
   "cell_type": "markdown",
   "id": "fa52b336-88bc-4de5-985c-3f8a885f5e00",
   "metadata": {
    "tags": []
   },
   "source": [
    "## multi-agent problem"
   ]
  },
  {
   "cell_type": "markdown",
   "id": "00b6c263-eca6-4cf9-8d45-07234cabb770",
   "metadata": {},
   "source": [
    "## 2 quadcopters w/ 1 human "
   ]
  },
  {
   "cell_type": "code",
   "execution_count": null,
   "id": "26e7d943-6e73-4d61-8a49-9738bdc22617",
   "metadata": {},
   "outputs": [],
   "source": [
    "def two_quads_one_human():\n",
    "    x0 = np.array([[-1.5, 0.1, 1, 0, 0, 0,\n",
    "                     1.5, 0, 1, 0, 0, 0,\n",
    "                     # 0.0, 0.5, 2, 0, 0, 0,\n",
    "                    # -2.5, 0.0, 1.5, 0, 0, 0,\n",
    "                    0, -1, 1.5, 0, 0, 0\n",
    "                  ]], dtype=float).T\n",
    "    xf = np.array([[1.5, 0, 2, 0, 0, 0,\n",
    "                   -1.5, 0, 2, 0, 0, 0,\n",
    "                   # -2.0, -0.5, 0.5, 0, 0, 0,\n",
    "                   # 0.2, -1.0, 1.0, 0, 0, 0,\n",
    "                   0.0, 2, 1.5, 0, 0, 0\n",
    "                   ]], dtype=float).T\n",
    "    return x0, xf"
   ]
  },
  {
   "cell_type": "code",
   "execution_count": null,
   "id": "2eea7a3e-12f9-4753-95d4-2d8706c94d1d",
   "metadata": {},
   "outputs": [],
   "source": [
    "n_agents = 3\n",
    "n_states = 6\n",
    "n_controls = 3\n",
    "\n",
    "x_dims = [n_states] * n_agents\n",
    "u_dims = [n_controls] * n_agents\n",
    "n_dims = [3, 3, 2]\n",
    "\n",
    "dt = 0.05\n",
    "N = 50\n",
    "radius = 0.3\n",
    "\n",
    "x0, xf = two_quads_one_human()\n",
    "\n",
    "Q = np.diag([1, 1, 1, 5, 5, 5])\n",
    "R = np.diag([1, 1, 1])\n",
    "Qf = 1e3 * np.eye(n_states)\n",
    "\n",
    "Q_human = np.diag([1, 1, 1, 0, 0, 0])\n",
    "R_human = np.diag([1, 1, 1e-9])\n",
    "Qf_human = 1e3 * np.eye(Q.shape[0])\n",
    "\n",
    "Qs = [Q, Q, Q_human]\n",
    "Rs = [R, R, R_human]\n",
    "Qfs = [Qf, Qf, Qf_human]\n",
    "\n",
    "models = [dec.QuadcopterDynamics6D, dec.QuadcopterDynamics6D, dec.HumanDynamics6D]\n",
    "ids = [100 + i for i in range(n_agents)]\n",
    "dynamics = dec.MultiDynamicalModel([model(dt, id_) for id_, model in zip(ids, models)])\n",
    "\n",
    "goal_costs = [\n",
    "    dec.ReferenceCost(xf_i, Qi, Ri, Qfi, id_)\n",
    "    for xf_i, id_, x_dim, Qi, Ri, Qfi in zip(\n",
    "        dec.split_agents_gen(xf, x_dims), ids, x_dims, Qs, Rs, Qfs\n",
    "    )\n",
    "]\n",
    "prox_cost = dec.ProximityCost(x_dims, radius, n_dims)\n",
    "game_cost = dec.GameCost(goal_costs, prox_cost)\n",
    "\n",
    "problem = dec.ilqrProblem(dynamics, game_cost)\n",
    "solver = dec.ilqrSolver(problem, N)\n",
    "\n",
    "U0 = np.c_[np.tile([g, 0, 0], (N, 2)), np.ones((N, n_controls))]"
   ]
  },
  {
   "cell_type": "code",
   "execution_count": null,
   "id": "496b8e1d-20e0-4129-9ff4-65b6952e2998",
   "metadata": {},
   "outputs": [],
   "source": [
    "X, U, J, _ = dec.solve_centralized(solver, x0, U0, ids, True)"
   ]
  },
  {
   "cell_type": "code",
   "execution_count": null,
   "id": "8b3880a0",
   "metadata": {},
   "outputs": [],
   "source": [
    "plt.clf()\n",
    "plot_solve(X, J, xf, x_dims, True, 3)"
   ]
  },
  {
   "cell_type": "code",
   "execution_count": null,
   "id": "b9d92f53-2d3d-4a9d-9a9a-5af482c0b7e7",
   "metadata": {},
   "outputs": [],
   "source": [
    "dec.plot_pairwise_distances(X, x_dims, n_dims, radius)"
   ]
  },
  {
   "cell_type": "code",
   "execution_count": null,
   "id": "bc33845f-e146-471d-8b68-97ea9b71a2c7",
   "metadata": {},
   "outputs": [],
   "source": [
    "X0 = np.tile(x0.T, (N+1, 1))\n",
    "X_dec, U_dec, J_dec, _ = dec.solve_decentralized(problem, X0, U0, radius, verbose=True)"
   ]
  },
  {
   "cell_type": "code",
   "execution_count": null,
   "id": "fdeb2b43",
   "metadata": {},
   "outputs": [],
   "source": [
    "plt.clf()\n",
    "plot_solve(X_dec, J_dec, xf, x_dims, True, n_d=3)\n",
    "plt.title('One-shot decentralized trajectory with Human and Quad')\n",
    "plt.draw()"
   ]
  },
  {
   "cell_type": "code",
   "execution_count": null,
   "id": "86cfc4ef-c9a4-49a4-bd11-81e8995c9cac",
   "metadata": {},
   "outputs": [],
   "source": [
    "dec.plot_pairwise_distances(X, x_dims, n_dims, radius)"
   ]
  },
  {
   "cell_type": "code",
   "execution_count": null,
   "id": "f352598f-6eec-4fc2-8960-fa4376541106",
   "metadata": {},
   "outputs": [],
   "source": [
    "n_agents = 3\n",
    "n_states = 6\n",
    "n_controls = 3\n",
    "\n",
    "x_dims = [n_states] * n_agents\n",
    "u_dims = [n_controls] * n_agents\n",
    "n_dims = [3, 3, 2]\n",
    "\n",
    "dt = 0.05\n",
    "N = 50\n",
    "radius = 0.6\n",
    "\n",
    "x0, xf = paper_setup_quads_3()\n",
    "\n",
    "Q = np.diag([1, 1, 1, 5, 5, 5])\n",
    "R = np.diag([1, 1, 1])\n",
    "Qf = 1e3 * np.eye(n_states)\n",
    "\n",
    "Q_human = np.diag([1, 1, 1, 0, 0, 0])\n",
    "R_human = np.diag([1, 1, 0])\n",
    "Qf_human = 1e3 * np.eye(Q.shape[0])\n",
    "\n",
    "Qs = [Q, Q, Q_human]\n",
    "Rs = [R, R, R_human]\n",
    "Qfs = [Qf, Qf, Qf_human]\n",
    "\n",
    "models = [dec.QuadcopterDynamics6D,dec.QuadcopterDynamics6D, dec.HumanDynamics6D]\n",
    "ids = [100 + i for i in range(n_agents)]\n",
    "dynamics = dec.MultiDynamicalModel([model(dt, id_) for id_, model in zip(ids, models)])\n",
    "\n",
    "goal_costs = [\n",
    "    dec.ReferenceCost(xf_i, Qi, Ri, Qfi, id_)\n",
    "    for xf_i, id_, x_dim, Qi, Ri, Qfi in zip(\n",
    "        dec.split_agents_gen(xf, x_dims), ids, x_dims, Qs, Rs, Qfs\n",
    "    )\n",
    "]\n",
    "prox_cost = dec.ProximityCost(x_dims, radius, n_dims)\n",
    "game_cost = dec.GameCost(goal_costs, prox_cost)\n",
    "\n",
    "problem = dec.ilqrProblem(dynamics, game_cost)\n",
    "solver = dec.ilqrSolver(problem, N)\n",
    "\n",
    "g = 9.80665\n",
    "U0 = np.tile([g, 0, 0], (N, n_agents))"
   ]
  },
  {
   "cell_type": "code",
   "execution_count": null,
   "id": "17ec3fb6-2cd5-4a3c-acef-40a628584b65",
   "metadata": {},
   "outputs": [],
   "source": [
    "X, U, J = solver.solve(x0, U0)"
   ]
  },
  {
   "cell_type": "markdown",
   "id": "5c39c2b1-0545-4f2b-845d-b9e5403b5661",
   "metadata": {},
   "source": [
    "# Multi-agent"
   ]
  },
  {
   "cell_type": "code",
   "execution_count": null,
   "id": "1d5df34d-5e4d-454b-82d4-33ae3b77f726",
   "metadata": {},
   "outputs": [],
   "source": [
    "n_states = 4\n",
    "n_controls = 2\n",
    "n_agents = 5\n",
    "x_dims = [n_states] * n_agents\n",
    "u_dims = [n_controls] * n_agents\n",
    "n_dims = [2] * n_agents\n",
    "\n",
    "# ENERGY = 20.0\n",
    "n_d = n_dims[0]\n",
    "\n",
    "x0, xf = dec.random_setup(\n",
    "    n_agents, n_states, \n",
    "    is_rotation=False, \n",
    "    rel_dist=2.0, \n",
    "    var=n_agents/2, \n",
    "    n_d=2, \n",
    "    random=True\n",
    ")\n",
    "\n",
    "x_dims = [n_states] * n_agents\n",
    "u_dims = [n_controls] * n_agents\n",
    "\n",
    "# x0 = dec.normalize_energy(x0, x_dims, ENERGY)\n",
    "# xf = dec.normalize_energy(xf, x_dims, ENERGY)\n",
    "# x0 = dec.perturb_state(x0, x_dims)\n",
    "\n",
    "dec.eyeball_scenario(x0, xf, n_agents, n_states)"
   ]
  },
  {
   "cell_type": "code",
   "execution_count": null,
   "id": "1f606b8b-543c-442a-8e82-7d1118b629ee",
   "metadata": {},
   "outputs": [],
   "source": [
    "dt = 0.05\n",
    "N = 60\n",
    "\n",
    "tol = 1e-6\n",
    "ids = [100 + i for i in range(n_agents)]\n",
    "\n",
    "model = dec.UnicycleDynamics4D\n",
    "dynamics = dec.MultiDynamicalModel([model(dt, id_) for id_ in ids])\n",
    "\n",
    "Q = np.eye(4)\n",
    "R = np.eye(2)\n",
    "Qf = 1e3 * np.eye(n_states)\n",
    "radius = 0.5\n",
    "\n",
    "goal_costs = [\n",
    "    dec.ReferenceCost(xf_i, Q.copy(), R.copy(), Qf.copy(), id_)\n",
    "    for xf_i, id_, x_dim, u_dim in zip(\n",
    "        dec.split_agents_gen(xf, x_dims), ids, x_dims, u_dims\n",
    "    )\n",
    "]\n",
    "prox_cost = dec.ProximityCost(x_dims, radius, n_dims)\n",
    "goal_costs = [dec.ReferenceCost(xf_i, Q.copy(), R.copy(), Qf.copy(), id_) \n",
    "              for xf_i, id_ in zip(split_agents(xf.T, x_dims), ids)]\n",
    "prox_cost = dec.ProximityCost(x_dims, radius, n_dims)\n",
    "game_cost = dec.GameCost(goal_costs, prox_cost)\n",
    "\n",
    "problem = dec.ilqrProblem(dynamics, game_cost)\n",
    "solver = dec.ilqrSolver(problem, N)\n",
    "\n",
    "# U0 = None"
   ]
  },
  {
   "cell_type": "code",
   "execution_count": null,
   "id": "563b0318-aef0-4483-afb9-9dae0352b3df",
   "metadata": {
    "tags": []
   },
   "outputs": [],
   "source": [
    "X, U, J = solver.solve(x0, tol=tol, t_kill=None)"
   ]
  },
  {
   "cell_type": "code",
   "execution_count": null,
   "id": "f583a3f3-8ec4-482d-b904-c957475a345a",
   "metadata": {},
   "outputs": [],
   "source": [
    "plt.clf()\n",
    "plot_solve(X, J, xf.T, x_dims, True, n_d)"
   ]
  },
  {
   "cell_type": "code",
   "execution_count": null,
   "id": "b87a4e75-51b8-4810-b699-4242d87f6435",
   "metadata": {},
   "outputs": [],
   "source": [
    "plt.clf()\n",
    "dec.plot_pairwise_distances(X, x_dims, n_dims, radius)"
   ]
  },
  {
   "cell_type": "code",
   "execution_count": null,
   "id": "547c9ad6-9dca-4cef-9db3-5d6112d34ae1",
   "metadata": {},
   "outputs": [],
   "source": [
    "# (optional) make gif.\n",
    "dec.make_trajectory_gif(\"traj.gif\", X, xf.ravel(), x_dims, radius)"
   ]
  }
 ],
 "metadata": {
  "kernelspec": {
   "display_name": "Python 3 (ipykernel)",
   "language": "python",
   "name": "python3"
  },
  "language_info": {
   "codemirror_mode": {
    "name": "ipython",
    "version": 3
   },
   "file_extension": ".py",
   "mimetype": "text/x-python",
   "name": "python",
   "nbconvert_exporter": "python",
   "pygments_lexer": "ipython3",
   "version": "3.10.4"
  },
  "vscode": {
   "interpreter": {
    "hash": "767d51c1340bd893661ea55ea3124f6de3c7a262a8b4abca0554b478b1e2ff90"
   }
  }
 },
 "nbformat": 4,
 "nbformat_minor": 5
}
